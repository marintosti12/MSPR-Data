{
   "cells": [
      {
         "cell_type": "code",
         "execution_count": 161,
         "metadata": {},
         "outputs": [],
         "source": [
            "import luigi\n",
            "import pandas as pd\n",
            "import os\n"
         ]
      },
      {
         "attachments": {},
         "cell_type": "markdown",
         "metadata": {},
         "source": [
            "## Création du dossier pour stocker les données nettoyées"
         ]
      },
      {
         "cell_type": "code",
         "execution_count": 162,
         "metadata": {},
         "outputs": [],
         "source": [
            "# Vérifiez si le dossier n'existe pas déjà\n",
            "\n",
            "dossier = 'CleanData'\n",
            "\n",
            "if not os.path.exists(dossier):\n",
            "    # Créez le dossier\n",
            "    os.makedirs(dossier, mode=0o777)\n",
            "    print(\"Dossier créé avec succès.\")\n"
         ]
      },
      {
         "cell_type": "code",
         "execution_count": 163,
         "metadata": {},
         "outputs": [],
         "source": [
            "class ReadDataCanton(luigi.Task):\n",
            "    file_path = luigi.Parameter()\n",
            "\n",
            "\n",
            "    def output(self):\n",
            "        return luigi.LocalTarget(\"./CleanData/canton.csv\")\n",
            "\n",
            "    def run(self):\n",
            "        \n",
            "        df = pd.read_csv(self.file_path, sep=\";\")\n",
            "        cantons = pd.DataFrame(columns=df.columns[0:25])\n",
            "        df_partis = pd.read_csv('./RawData/Partis.csv', sep=\",\")\n",
            "\n",
            "        for index, row in df.iterrows():\n",
            "            #print(f\"index : {index} \\n row : {row[0:18]} \\n\\n\")\n",
            "            row1 = pd.Series(row[0:18], index=df.columns[0:18])\n",
            "\n",
            "            for i in range(0, 10):\n",
            "                # Ligne 2\n",
            "                row2 = pd.Series(row.iloc[18 + i * 7:18 + ((i + 1) * 7)])\n",
            "\n",
            "                df_row2 = pd.DataFrame([row2])\n",
            "                \n",
            "                df_row2_renamed = pd.DataFrame(df_row2.values, columns=['N°Panneau','Sexe','Nom','Prenom','Voix','% Voix/Ins','% Voix/Exp'])\n",
            "\n",
            "                # Fusionner les deux lignes\n",
            "                merged_row = pd.concat([row1, df_row2_renamed.squeeze()], axis=0)\n",
            "\n",
            "                # Convertir la ligne fusionnée en DataFrame avec une seule ligne\n",
            "                merged_row_df = pd.DataFrame([merged_row])\n",
            "\n",
            "                # Ajouter la ligne fusionnée au DataFrame\n",
            "                cantons = pd.concat([cantons, merged_row_df], ignore_index=True)\n",
            "\n",
            "                #print(len(cantons))\n",
            "\n",
            "        cantons = pd.merge(cantons, df_partis, on=['Nom', 'Prenom'], how='left')\n",
            "\n",
            "        print(cantons.duplicated(['Nom', 'Prenom']).sum())\n",
            "        print(df_partis.duplicated(['Nom', 'Prenom']).sum())\n",
            "\n",
            "        #display(cantons)\n",
            "        cantons.to_csv(self.output().path, index=False)\n",
            "\n",
            "\n"
         ]
      },
      {
         "attachments": {},
         "cell_type": "markdown",
         "metadata": {},
         "source": [
            "## Extraire les candidats"
         ]
      },
      {
         "cell_type": "code",
         "execution_count": 164,
         "metadata": {},
         "outputs": [],
         "source": [
            "class ExtractCandidats(luigi.Task):\n",
            "    file_path = luigi.Parameter()\n",
            "\n",
            "    def requires(self):\n",
            "        return ReadDataCanton(file_path=\"./RawData/canton_t1_2017.csv\")\n",
            "    \n",
            "    def output(self):\n",
            "        return luigi.LocalTarget(\"./CleanData/candidats.csv\")\n",
            "\n",
            "    def run(self):\n",
            "                \n",
            "        df = pd.read_csv(self.file_path, sep=\",\")\n",
            "       \n",
            "        display(df)\n",
            "\n",
            "        df = df.loc[:, [\"Prenom\", \"Nom\"]]\n",
            "        df = df.drop_duplicates()\n",
            "        \n",
            "        df.to_csv(self.output().path, index=False)"
         ]
      },
      {
         "attachments": {},
         "cell_type": "markdown",
         "metadata": {},
         "source": [
            "## Extraire les données sur la délinquance"
         ]
      },
      {
         "cell_type": "code",
         "execution_count": 165,
         "metadata": {},
         "outputs": [],
         "source": [
            "class ExtractDelinquance(luigi.Task):\n",
            "    file_path = luigi.Parameter()\n",
            "\n",
            "    def output(self):\n",
            "        return luigi.LocalTarget(\"./CleanData/delinquance.csv\")\n",
            "\n",
            "    def run(self):\n",
            "                        \n",
            "        df = pd.read_csv(self.file_path, sep=\";\")\n",
            "        \n",
            "\n",
            "        df = df.query('annee == 17')\n",
            "\n",
            "        df = df.rename(columns={\"classe\" : \"Type\", \"Code.département\" : \"Code du departement\", \"Code.région\" : \"Region\"})\n",
            "\n",
            "        grouped_df = df.groupby('Code du departement')['faits'].sum()\n",
            "\n",
            "        grouped_df = grouped_df.reset_index()\n",
            "\n",
            "        grouped_df.to_csv(self.output().path, index=False)"
         ]
      },
      {
         "attachments": {},
         "cell_type": "markdown",
         "metadata": {},
         "source": [
            "## Calculer le taux de chômage par département"
         ]
      },
      {
         "cell_type": "code",
         "execution_count": 166,
         "metadata": {},
         "outputs": [],
         "source": [
            "class ExtractNombreChomeurs(luigi.Task):\n",
            "    file_path = luigi.Parameter()\n",
            "\n",
            "    def output(self):\n",
            "        return luigi.LocalTarget(\"./CleanData/chomeurs.csv\")\n",
            "\n",
            "    def run(self):      \n",
            "        df = pd.read_csv(self.file_path, sep=\";\")\n",
            "        df = df.rename(columns={\"Code Officiel Département\" : \"Code du departement\"})\n",
            "\n",
            "        df = df[df['Année'] == 2017]\n",
            "\n",
            "        df_chomeurs = df[df['Nom de la variable'].str.contains('Chômeurs')]\n",
            "        df_chomeurs = df_chomeurs.groupby('Code du departement')['Valeur'].sum()\n",
            "        df_chomeurs = df_chomeurs.reset_index()\n",
            "\n",
            "\n",
            "        df_actifs = df[df['Nom de la variable'].str.contains('Actifs')]\n",
            "        df_actifs = df_actifs.groupby('Code du departement')['Valeur'].sum()\n",
            "        df_actifs = df_actifs.reset_index()\n",
            "\n",
            "        df_merge = pd.merge(df_chomeurs, df_actifs, on='Code du departement')\n",
            "        df_merge[\"Chomage\"] = df_merge[\"Valeur_x\"] / df_merge[\"Valeur_y\"]\n",
            "        \n",
            "\n",
            "        df_merge.to_csv(self.output().path, index=False)\n"
         ]
      },
      {
         "attachments": {},
         "cell_type": "markdown",
         "metadata": {},
         "source": [
            "## Exécuter toutes les tâches"
         ]
      },
      {
         "cell_type": "code",
         "execution_count": 169,
         "metadata": {},
         "outputs": [],
         "source": [
            "class ReadAllData(luigi.Task):\n",
            "    def requires(self):\n",
            "        return [ExtractCandidats(file_path=\"./CleanData/canton.csv\"), \n",
            "                ExtractDelinquance(file_path=\"./RawData/Donnees_delinquance.csv\"),\n",
            "                ExtractNombreChomeurs(file_path=\"./RawData/Population active par département.csv\")]\n",
            "    \n",
            "    def run(self):\n",
            "        print(\"lancement\")\n",
            "\n",
            "    def output(self):\n",
            "        return luigi.LocalTarget('result.txt')"
         ]
      },
      {
         "cell_type": "code",
         "execution_count": 170,
         "metadata": {},
         "outputs": [
            {
               "name": "stderr",
               "output_type": "stream",
               "text": [
                  "DEBUG: Checking if ReadAllData() is complete\n",
                  "WARNING: Will not run ReadAllData() or any dependencies due to error in deps() method:\n",
                  "Traceback (most recent call last):\n",
                  "  File \"c:\\Users\\HP\\AppData\\Local\\Programs\\Python\\Python311\\Lib\\site-packages\\luigi\\worker.py\", line 877, in _add\n",
                  "    deps = task.deps()\n",
                  "           ^^^^^^^^^^^\n",
                  "  File \"c:\\Users\\HP\\AppData\\Local\\Programs\\Python\\Python311\\Lib\\site-packages\\luigi\\task.py\", line 676, in deps\n",
                  "    return flatten(self._requires())\n",
                  "                   ^^^^^^^^^^^^^^^^\n",
                  "  File \"c:\\Users\\HP\\AppData\\Local\\Programs\\Python\\Python311\\Lib\\site-packages\\luigi\\task.py\", line 648, in _requires\n",
                  "    return flatten(self.requires())  # base impl\n",
                  "                   ^^^^^^^^^^^^^^^\n",
                  "  File \"C:\\Users\\HP\\AppData\\Local\\Temp\\ipykernel_17904\\3156948128.py\", line 5, in requires\n",
                  "    CalculerTauxChomage(file_path=\"./RawData/Population active par département.csv\")]\n",
                  "    ^^^^^^^^^^^^^^^^^^^^^^^^^^^^^^^^^^^^^^^^^^^^^^^^^^^^^^^^^^^^^^^^^^^^^^^^^^^^^^^^\n",
                  "  File \"c:\\Users\\HP\\AppData\\Local\\Programs\\Python\\Python311\\Lib\\site-packages\\luigi\\task_register.py\", line 87, in __call__\n",
                  "    param_values = cls.get_param_values(params, args, kwargs)\n",
                  "                   ^^^^^^^^^^^^^^^^^^^^^^^^^^^^^^^^^^^^^^^^^^\n",
                  "  File \"c:\\Users\\HP\\AppData\\Local\\Programs\\Python\\Python311\\Lib\\site-packages\\luigi\\task.py\", line 414, in get_param_values\n",
                  "    raise parameter.UnknownParameterException('%s: unknown parameter %s' % (exc_desc, param_name))\n",
                  "luigi.parameter.UnknownParameterException: CalculerTauxChomage[args=(), kwargs={'file_path': './RawData/Population active par département.csv'}]: unknown parameter file_path\n",
                  "\n",
                  "INFO: Informed scheduler that task   ReadAllData__99914b932b   has status   UNKNOWN\n",
                  "INFO: Done scheduling tasks\n",
                  "INFO: Running Worker with 1 processes\n",
                  "DEBUG: Asking scheduler for work...\n",
                  "DEBUG: Done\n",
                  "DEBUG: There are no more tasks to run at this time\n",
                  "INFO: Worker Worker(salt=1577391951, workers=1, host=DESKTOP-PBH195U, username=Marin, pid=17904) was stopped. Shutting down Keep-Alive thread\n",
                  "INFO: \n",
                  "===== Luigi Execution Summary =====\n",
                  "\n",
                  "Scheduled 1 tasks of which:\n",
                  "* 1 failed scheduling:\n",
                  "    - 1 ReadAllData()\n",
                  "\n",
                  "Did not run any tasks\n",
                  "This progress looks :( because there were tasks whose scheduling failed\n",
                  "\n",
                  "===== Luigi Execution Summary =====\n",
                  "\n"
               ]
            },
            {
               "data": {
                  "text/plain": [
                     "False"
                  ]
               },
               "execution_count": 170,
               "metadata": {},
               "output_type": "execute_result"
            }
         ],
         "source": [
            "\n",
            "config = luigi.configuration.get_config()\n",
            "config.set('core', 'no_lock', 'False')\n",
            "\n",
            "dossier = \"./CleanData/\"\n",
            "Restart = False\n",
            "\n",
            "if Restart is True:\n",
            "    # Parcourir tous les fichiers du dossier\n",
            "    for fichier in os.listdir(dossier):\n",
            "        chemin_fichier = os.path.join(dossier, fichier)\n",
            "        # Supprimer le fichier\n",
            "        os.remove(chemin_fichier)\n",
            "\n",
            "luigi.build([ReadAllData()], local_scheduler=False, no_lock=True)"
         ]
      }
   ],
   "metadata": {
      "kernelspec": {
         "display_name": "Python 3",
         "language": "python",
         "name": "python3"
      },
      "language_info": {
         "codemirror_mode": {
            "name": "ipython",
            "version": 3
         },
         "file_extension": ".py",
         "mimetype": "text/x-python",
         "name": "python",
         "nbconvert_exporter": "python",
         "pygments_lexer": "ipython3",
         "version": "3.11.0"
      },
      "orig_nbformat": 4
   },
   "nbformat": 4,
   "nbformat_minor": 2
}
