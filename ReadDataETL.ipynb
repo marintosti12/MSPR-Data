{
 "cells": [
  {
   "cell_type": "code",
   "execution_count": 46,
   "metadata": {},
   "outputs": [],
   "source": [
    "import luigi\n",
    "import pandas as pd\n",
    "import os"
   ]
  },
  {
   "attachments": {},
   "cell_type": "markdown",
   "metadata": {},
   "source": [
    "Création du dossier pour stocker les données nétoyer"
   ]
  },
  {
   "cell_type": "code",
   "execution_count": null,
   "metadata": {},
   "outputs": [],
   "source": [
    "# Vérifiez si le dossier n'existe pas déjà\n",
    "\n",
    "dossier = 'CleanData'\n",
    "\n",
    "if not os.path.exists(dossier):\n",
    "    # Créez le dossier\n",
    "    os.makedirs(dossier, mode=0o777)\n",
    "    print(\"Dossier créé avec succès.\")\n",
    "else:\n",
    "    print(\"Le dossier existe déjà.\")"
   ]
  },
  {
   "cell_type": "code",
   "execution_count": 47,
   "metadata": {},
   "outputs": [],
   "source": [
    "class ReadDataCanton(luigi.Task):\n",
    "    file_path = luigi.Parameter()\n",
    "\n",
    "    def output(self):\n",
    "        return luigi.LocalTarget(\"./CleanData/canton.csv\")\n",
    "\n",
    "    def run(self):\n",
    "        df = pd.read_csv(self.file_path, sep=\";\")\n",
    "        # Faites quelque chose avec le dataframe, par exemple, l'afficher\n",
    "\n",
    "        df.to_csv(self.output().path, index=False)"
   ]
  },
  {
   "cell_type": "code",
   "execution_count": 48,
   "metadata": {},
   "outputs": [],
   "source": [
    "class ReadDataCDSP(luigi.Task):\n",
    "    file_path = luigi.Parameter()\n",
    "\n",
    "    def output(self):\n",
    "        return luigi.LocalTarget(\"./CleanData/output.csv\")\n",
    "\n",
    "    def run(self):\n",
    "        df = pd.read_csv(self.file_path, sep=\";\")\n",
    "        # Faites quelque chose avec le dataframe, par exemple, l'afficher\n",
    "\n",
    "        df.to_csv(self.output().path, index=False)"
   ]
  },
  {
   "cell_type": "code",
   "execution_count": 49,
   "metadata": {},
   "outputs": [],
   "source": [
    "class ReadAllData(luigi.Task):\n",
    "    def requires(self):\n",
    "        return [ReadDataCanton(file_path=\"./RawData/canton_t1_2017.csv\"), ReadDataCDSP(file_path=\"./RawData/cdsp_presi2012t2_circ.csv\")]\n",
    "    \n",
    "    def run(self):\n",
    "        print(\"lancement\")"
   ]
  },
  {
   "cell_type": "code",
   "execution_count": 50,
   "metadata": {},
   "outputs": [
    {
     "name": "stderr",
     "output_type": "stream",
     "text": [
      "DEBUG: Checking if ReadAllData() is complete\n",
      "c:\\Users\\HP\\AppData\\Local\\Programs\\Python\\Python311\\Lib\\site-packages\\luigi\\worker.py:419: UserWarning: Task ReadAllData() without outputs has no custom complete() method\n",
      "  is_complete = task.complete()\n",
      "DEBUG: Checking if ReadDataCanton(file_path=./RawData/canton_t1_2017.csv) is complete\n",
      "DEBUG: Checking if ReadDataCDSP(file_path=./RawData/cdsp_presi2012t2_circ.csv) is complete\n",
      "INFO: Informed scheduler that task   ReadAllData__99914b932b   has status   PENDING\n",
      "INFO: Informed scheduler that task   ReadDataCDSP___RawData_cdsp_p_0f11afe572   has status   PENDING\n",
      "INFO: Informed scheduler that task   ReadDataCanton___RawData_canton_95a4352c04   has status   PENDING\n",
      "INFO: Done scheduling tasks\n",
      "INFO: Running Worker with 1 processes\n",
      "DEBUG: Asking scheduler for work...\n",
      "DEBUG: Pending tasks: 3\n",
      "INFO: [pid 19872] Worker Worker(salt=3502862612, workers=1, host=DESKTOP-PBH195U, username=Marin, pid=19872) running   ReadDataCanton(file_path=./RawData/canton_t1_2017.csv)\n",
      "ERROR: [pid 19872] Worker Worker(salt=3502862612, workers=1, host=DESKTOP-PBH195U, username=Marin, pid=19872) failed    ReadDataCanton(file_path=./RawData/canton_t1_2017.csv)\n",
      "Traceback (most recent call last):\n",
      "  File \"c:\\Users\\HP\\AppData\\Local\\Programs\\Python\\Python311\\Lib\\site-packages\\luigi\\worker.py\", line 203, in run\n",
      "    new_deps = self._run_get_new_deps()\n",
      "               ^^^^^^^^^^^^^^^^^^^^^^^^\n",
      "  File \"c:\\Users\\HP\\AppData\\Local\\Programs\\Python\\Python311\\Lib\\site-packages\\luigi\\worker.py\", line 138, in _run_get_new_deps\n",
      "    task_gen = self.task.run()\n",
      "               ^^^^^^^^^^^^^^^\n",
      "  File \"C:\\Users\\HP\\AppData\\Local\\Temp\\ipykernel_19872\\1884412220.py\", line 11, in run\n",
      "    df.to_csv(self.output().path, index=False)\n",
      "  File \"c:\\Users\\HP\\AppData\\Local\\Programs\\Python\\Python311\\Lib\\site-packages\\pandas\\core\\generic.py\", line 3772, in to_csv\n",
      "    return DataFrameRenderer(formatter).to_csv(\n",
      "           ^^^^^^^^^^^^^^^^^^^^^^^^^^^^^^^^^^^^\n",
      "  File \"c:\\Users\\HP\\AppData\\Local\\Programs\\Python\\Python311\\Lib\\site-packages\\pandas\\io\\formats\\format.py\", line 1186, in to_csv\n",
      "    csv_formatter.save()\n",
      "  File \"c:\\Users\\HP\\AppData\\Local\\Programs\\Python\\Python311\\Lib\\site-packages\\pandas\\io\\formats\\csvs.py\", line 240, in save\n",
      "    with get_handle(\n",
      "         ^^^^^^^^^^^\n",
      "  File \"c:\\Users\\HP\\AppData\\Local\\Programs\\Python\\Python311\\Lib\\site-packages\\pandas\\io\\common.py\", line 737, in get_handle\n",
      "    check_parent_directory(str(handle))\n",
      "  File \"c:\\Users\\HP\\AppData\\Local\\Programs\\Python\\Python311\\Lib\\site-packages\\pandas\\io\\common.py\", line 600, in check_parent_directory\n",
      "    raise OSError(rf\"Cannot save file into a non-existent directory: '{parent}'\")\n",
      "OSError: Cannot save file into a non-existent directory: '.CleanData'\n",
      "DEBUG: 1 running tasks, waiting for next task to finish\n",
      "INFO: Informed scheduler that task   ReadDataCanton___RawData_canton_95a4352c04   has status   FAILED\n",
      "DEBUG: Asking scheduler for work...\n",
      "DEBUG: Pending tasks: 3\n",
      "INFO: [pid 19872] Worker Worker(salt=3502862612, workers=1, host=DESKTOP-PBH195U, username=Marin, pid=19872) running   ReadDataCDSP(file_path=./RawData/cdsp_presi2012t2_circ.csv)\n",
      "ERROR: [pid 19872] Worker Worker(salt=3502862612, workers=1, host=DESKTOP-PBH195U, username=Marin, pid=19872) failed    ReadDataCDSP(file_path=./RawData/cdsp_presi2012t2_circ.csv)\n",
      "Traceback (most recent call last):\n",
      "  File \"c:\\Users\\HP\\AppData\\Local\\Programs\\Python\\Python311\\Lib\\site-packages\\luigi\\worker.py\", line 203, in run\n",
      "    new_deps = self._run_get_new_deps()\n",
      "               ^^^^^^^^^^^^^^^^^^^^^^^^\n",
      "  File \"c:\\Users\\HP\\AppData\\Local\\Programs\\Python\\Python311\\Lib\\site-packages\\luigi\\worker.py\", line 138, in _run_get_new_deps\n",
      "    task_gen = self.task.run()\n",
      "               ^^^^^^^^^^^^^^^\n",
      "  File \"C:\\Users\\HP\\AppData\\Local\\Temp\\ipykernel_19872\\2921635335.py\", line 11, in run\n",
      "    df.to_csv(self.output().path, index=False)\n",
      "  File \"c:\\Users\\HP\\AppData\\Local\\Programs\\Python\\Python311\\Lib\\site-packages\\pandas\\core\\generic.py\", line 3772, in to_csv\n",
      "    return DataFrameRenderer(formatter).to_csv(\n",
      "           ^^^^^^^^^^^^^^^^^^^^^^^^^^^^^^^^^^^^\n",
      "  File \"c:\\Users\\HP\\AppData\\Local\\Programs\\Python\\Python311\\Lib\\site-packages\\pandas\\io\\formats\\format.py\", line 1186, in to_csv\n",
      "    csv_formatter.save()\n",
      "  File \"c:\\Users\\HP\\AppData\\Local\\Programs\\Python\\Python311\\Lib\\site-packages\\pandas\\io\\formats\\csvs.py\", line 240, in save\n",
      "    with get_handle(\n",
      "         ^^^^^^^^^^^\n",
      "  File \"c:\\Users\\HP\\AppData\\Local\\Programs\\Python\\Python311\\Lib\\site-packages\\pandas\\io\\common.py\", line 737, in get_handle\n",
      "    check_parent_directory(str(handle))\n",
      "  File \"c:\\Users\\HP\\AppData\\Local\\Programs\\Python\\Python311\\Lib\\site-packages\\pandas\\io\\common.py\", line 600, in check_parent_directory\n",
      "    raise OSError(rf\"Cannot save file into a non-existent directory: '{parent}'\")\n",
      "OSError: Cannot save file into a non-existent directory: '.CleanData'\n",
      "DEBUG: 1 running tasks, waiting for next task to finish\n",
      "INFO: Informed scheduler that task   ReadDataCDSP___RawData_cdsp_p_0f11afe572   has status   FAILED\n",
      "DEBUG: Asking scheduler for work...\n",
      "DEBUG: Done\n",
      "DEBUG: There are no more tasks to run at this time\n",
      "DEBUG: There are 3 pending tasks possibly being run by other workers\n",
      "DEBUG: There are 3 pending tasks unique to this worker\n",
      "DEBUG: There are 3 pending tasks last scheduled by this worker\n",
      "INFO: Worker Worker(salt=3502862612, workers=1, host=DESKTOP-PBH195U, username=Marin, pid=19872) was stopped. Shutting down Keep-Alive thread\n",
      "INFO: \n",
      "===== Luigi Execution Summary =====\n",
      "\n",
      "Scheduled 3 tasks of which:\n",
      "* 2 failed:\n",
      "    - 1 ReadDataCDSP(file_path=./RawData/cdsp_presi2012t2_circ.csv)\n",
      "    - 1 ReadDataCanton(file_path=./RawData/canton_t1_2017.csv)\n",
      "* 1 were left pending, among these:\n",
      "    * 1 had failed dependencies:\n",
      "        - 1 ReadAllData()\n",
      "\n",
      "This progress looks :( because there were failed tasks\n",
      "\n",
      "===== Luigi Execution Summary =====\n",
      "\n"
     ]
    },
    {
     "data": {
      "text/plain": [
       "False"
      ]
     },
     "execution_count": 50,
     "metadata": {},
     "output_type": "execute_result"
    }
   ],
   "source": [
    "luigi.build(\n",
    "    [ReadAllData()], local_scheduler=False,\n",
    ")\n"
   ]
  }
 ],
 "metadata": {
  "kernelspec": {
   "display_name": "Python 3",
   "language": "python",
   "name": "python3"
  },
  "language_info": {
   "codemirror_mode": {
    "name": "ipython",
    "version": 3
   },
   "file_extension": ".py",
   "mimetype": "text/x-python",
   "name": "python",
   "nbconvert_exporter": "python",
   "pygments_lexer": "ipython3",
   "version": "3.11.0"
  },
  "orig_nbformat": 4
 },
 "nbformat": 4,
 "nbformat_minor": 2
}
