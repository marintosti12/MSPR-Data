{
 "cells": [
  {
   "cell_type": "code",
   "execution_count": null,
   "metadata": {},
   "outputs": [],
   "source": [
    "import luigi\n",
    "import pandas as pd\n",
    "import os\n",
    "import logging\n",
    "\n"
   ]
  },
  {
   "attachments": {},
   "cell_type": "markdown",
   "metadata": {},
   "source": [
    "Création du dossier pour stocker les données nétoyer"
   ]
  },
  {
   "cell_type": "code",
   "execution_count": null,
   "metadata": {},
   "outputs": [],
   "source": [
    "# Vérifiez si le dossier n'existe pas déjà\n",
    "\n",
    "import shutil\n",
    "\n",
    "\n",
    "dossier = 'CleanData'\n",
    "\n",
    "if not os.path.exists(dossier):\n",
    "    # Créez le dossier\n",
    "    os.makedirs(dossier, mode=0o777)\n",
    "    print(\"Dossier créé avec succès.\")\n"
   ]
  },
  {
   "cell_type": "code",
   "execution_count": null,
   "metadata": {},
   "outputs": [],
   "source": [
    "import sys\n",
    "\n",
    "class ReadDataCanton(luigi.Task):\n",
    "    file_path = luigi.Parameter()\n",
    "\n",
    "\n",
    "    def output(self):\n",
    "        return luigi.LocalTarget(\"./CleanData/canton.csv\")\n",
    "\n",
    "    def run(self):\n",
    "        \n",
    "        df = pd.read_csv(self.file_path, sep=\";\")\n",
    "        cantons = pd.DataFrame(columns=df.columns[0:25])\n",
    "        df_partis = pd.read_csv('./RawData/Partis.csv', sep=\",\")\n",
    "\n",
    "        for index, row in df.iterrows():\n",
    "            #print(f\"index : {index} \\n row : {row[0:18]} \\n\\n\")\n",
    "            row1 = pd.Series(row[0:18], index=df.columns[0:18])\n",
    "\n",
    "            for i in range(0, 10):\n",
    "                # Ligne 2\n",
    "                row2 = pd.Series(row.iloc[18 + i * 7:18 + ((i + 1) * 7)])\n",
    "\n",
    "                df_row2 = pd.DataFrame([row2])\n",
    "                \n",
    "                df_row2_renamed = pd.DataFrame(df_row2.values, columns=['N°Panneau','Sexe','Nom','Prenom','Voix','% Voix/Ins','% Voix/Exp'])\n",
    "\n",
    "                # Fusionner les deux lignes\n",
    "                merged_row = pd.concat([row1, df_row2_renamed.squeeze()], axis=0)\n",
    "\n",
    "                # Convertir la ligne fusionnée en DataFrame avec une seule ligne\n",
    "                merged_row_df = pd.DataFrame([merged_row])\n",
    "\n",
    "                # Ajouter la ligne fusionnée au DataFrame\n",
    "                cantons = pd.concat([cantons, merged_row_df], ignore_index=True)\n",
    "\n",
    "                #print(len(cantons))\n",
    "\n",
    "        cantons = pd.merge(cantons, df_partis, on=['Nom', 'Prenom'], how='left')\n",
    "\n",
    "        print(cantons.duplicated(['Nom', 'Prenom']).sum())\n",
    "        print(df_partis.duplicated(['Nom', 'Prenom']).sum())\n",
    "\n",
    "        #display(cantons)\n",
    "        cantons.to_csv(self.output().path, index=False)\n",
    "\n",
    "\n"
   ]
  },
  {
   "cell_type": "code",
   "execution_count": null,
   "metadata": {},
   "outputs": [],
   "source": [
    "class ExtractCandidats(luigi.Task):\n",
    "    file_path = luigi.Parameter()\n",
    "\n",
    "    def requires(self):\n",
    "        return ReadDataCanton(file_path=\"./RawData/canton_t1_2017.csv\")\n",
    "    \n",
    "    def output(self):\n",
    "        return luigi.LocalTarget(\"./CleanData/candidats.csv\")\n",
    "\n",
    "    def run(self):\n",
    "                \n",
    "        df = pd.read_csv(self.file_path, sep=\",\")\n",
    "       \n",
    "        display(df);\n",
    "\n",
    "        df = df.loc[:, [\"Prenom\", \"Nom\"]]\n",
    "        df = df.drop_duplicates()\n",
    "        \n",
    "        df.to_csv(self.output().path, index=False)"
   ]
  },
  {
   "cell_type": "code",
   "execution_count": null,
   "metadata": {},
   "outputs": [],
   "source": [
    "class ExtractDelinquance(luigi.Task):\n",
    "    file_path = luigi.Parameter()\n",
    "\n",
    "    def output(self):\n",
    "        return luigi.LocalTarget(\"./CleanData/delinquance.csv\")\n",
    "\n",
    "    def run(self):\n",
    "                        \n",
    "        df = pd.read_csv(self.file_path, sep=\";\")\n",
    "        # Faites quelque chose avec le dataframe, par exemple, l'afficher\n",
    "\n",
    "        df.to_csv(self.output().path, index=False)"
   ]
  },
  {
   "cell_type": "code",
   "execution_count": null,
   "metadata": {},
   "outputs": [],
   "source": [
    "class ReadAllData(luigi.Task):\n",
    "    def requires(self):\n",
    "        return [ExtractCandidats(file_path=\"./CleanData/canton.csv\"), \n",
    "                ExtractDelinquance(file_path=\"./RawData/Donnees_delinquance.csv\")]\n",
    "    \n",
    "    def run(self):\n",
    "        print(\"lancement\")\n",
    "\n",
    "    def output(self):\n",
    "        return luigi.LocalTarget('result.txt')"
   ]
  },
  {
   "cell_type": "code",
   "execution_count": null,
   "metadata": {},
   "outputs": [],
   "source": [
    "\n",
    "config = luigi.configuration.get_config()\n",
    "config.set('core', 'no_lock', 'False')\n",
    "\n",
    "dossier = \"./CleanData/\"\n",
    "Restart = True\n",
    "\n",
    "if Restart is True:\n",
    "    # Parcourir tous les fichiers du dossier\n",
    "    for fichier in os.listdir(dossier):\n",
    "        chemin_fichier = os.path.join(dossier, fichier)\n",
    "        # Supprimer le fichier\n",
    "        os.remove(chemin_fichier)\n",
    "\n",
    "luigi.build([ReadAllData()], local_scheduler=False, no_lock=True)"
   ]
  }
 ],
 "metadata": {
  "kernelspec": {
   "display_name": "Python 3",
   "language": "python",
   "name": "python3"
  },
  "language_info": {
   "codemirror_mode": {
    "name": "ipython",
    "version": 3
   },
   "file_extension": ".py",
   "mimetype": "text/x-python",
   "name": "python",
   "nbconvert_exporter": "python",
   "pygments_lexer": "ipython3",
   "version": "3.11.0"
  },
  "orig_nbformat": 4
 },
 "nbformat": 4,
 "nbformat_minor": 2
}
