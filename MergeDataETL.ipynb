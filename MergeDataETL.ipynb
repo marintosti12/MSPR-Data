{
 "cells": [
  {
   "cell_type": "code",
   "execution_count": 7,
   "metadata": {},
   "outputs": [],
   "source": [
    "import luigi\n",
    "import pandas as pd\n",
    "import os\n",
    "import logging\n",
    "\n"
   ]
  },
  {
   "cell_type": "code",
   "execution_count": 8,
   "metadata": {},
   "outputs": [],
   "source": [
    "class ReadAllData(luigi.Task):\n",
    "    def run(self):\n",
    "        df_delinquance = pd.read_csv(\"./CleanData/delinquance.csv\", sep=\",\")\n",
    "        df_canton = pd.read_csv(\"./CleanData/canton.csv\", sep=\",\")\n",
    "        df_chomeurs = pd.read_csv(\"./CleanData/chomeurs.csv\", sep=\",\")\n",
    "\n",
    "        \n",
    "        merge_data = pd.merge(df_canton, df_delinquance, on='Code du departement', how='inner')\n",
    "        merge_data = pd.merge(merge_data, df_chomeurs, on='Code du departement', how='inner')\n",
    "\n",
    "        merge_data.to_csv(self.output().path, index=False)\n",
    "\n",
    "    def output(self):\n",
    "        return luigi.LocalTarget('./CleanData/data.csv')"
   ]
  },
  {
   "cell_type": "code",
   "execution_count": 9,
   "metadata": {},
   "outputs": [
    {
     "name": "stderr",
     "output_type": "stream",
     "text": [
      "DEBUG: Checking if ReadAllData() is complete\n",
      "INFO: Informed scheduler that task   ReadAllData__99914b932b   has status   PENDING\n",
      "INFO: Done scheduling tasks\n",
      "INFO: Running Worker with 1 processes\n",
      "DEBUG: Asking scheduler for work...\n",
      "DEBUG: Pending tasks: 1\n",
      "INFO: [pid 10432] Worker Worker(salt=1811937867, workers=1, host=DESKTOP-PBH195U, username=Marin, pid=10432) running   ReadAllData()\n",
      "INFO: [pid 10432] Worker Worker(salt=1811937867, workers=1, host=DESKTOP-PBH195U, username=Marin, pid=10432) done      ReadAllData()\n",
      "DEBUG: 1 running tasks, waiting for next task to finish\n",
      "INFO: Informed scheduler that task   ReadAllData__99914b932b   has status   DONE\n",
      "DEBUG: Asking scheduler for work...\n",
      "DEBUG: Done\n",
      "DEBUG: There are no more tasks to run at this time\n",
      "INFO: Worker Worker(salt=1811937867, workers=1, host=DESKTOP-PBH195U, username=Marin, pid=10432) was stopped. Shutting down Keep-Alive thread\n",
      "INFO: \n",
      "===== Luigi Execution Summary =====\n",
      "\n",
      "Scheduled 1 tasks of which:\n",
      "* 1 ran successfully:\n",
      "    - 1 ReadAllData()\n",
      "\n",
      "This progress looks :) because there were no failed tasks or missing dependencies\n",
      "\n",
      "===== Luigi Execution Summary =====\n",
      "\n"
     ]
    },
    {
     "data": {
      "text/plain": [
       "True"
      ]
     },
     "execution_count": 9,
     "metadata": {},
     "output_type": "execute_result"
    }
   ],
   "source": [
    "\n",
    "config = luigi.configuration.get_config()\n",
    "config.set('core', 'no_lock', 'False')\n",
    "\n",
    "\n",
    "luigi.build([ReadAllData()], local_scheduler=False, no_lock=True)"
   ]
  }
 ],
 "metadata": {
  "kernelspec": {
   "display_name": "Python 3",
   "language": "python",
   "name": "python3"
  },
  "language_info": {
   "codemirror_mode": {
    "name": "ipython",
    "version": 3
   },
   "file_extension": ".py",
   "mimetype": "text/x-python",
   "name": "python",
   "nbconvert_exporter": "python",
   "pygments_lexer": "ipython3",
   "version": "3.11.0"
  },
  "orig_nbformat": 4
 },
 "nbformat": 4,
 "nbformat_minor": 2
}
