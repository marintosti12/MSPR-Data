{
 "cells": [
  {
   "cell_type": "code",
   "execution_count": null,
   "metadata": {},
   "outputs": [],
   "source": [
    "import luigi\n",
    "import pandas as pd\n",
    "import os\n",
    "import logging\n",
    "\n"
   ]
  },
  {
   "cell_type": "code",
   "execution_count": null,
   "metadata": {},
   "outputs": [],
   "source": [
    "class ReadAllData(luigi.Task):\n",
    "    def run(self):\n",
    "        df_delinquance = pd.read_csv(\"./CleanData/delinquance.csv\", sep=\",\")\n",
    "        df_canton = pd.read_csv(\"./CleanData/canton.csv\", sep=\",\")\n",
    "        df_chomeurs = pd.read_csv(\"./CleanData/chomeurs.csv\", sep=\",\")\n",
    "\n",
    "        \n",
    "        merge_data = pd.merge(df_canton, df_delinquance, on='Code du departement', how='inner')\n",
    "        merge_data = pd.merge(merge_data, df_chomeurs, on='Code du departement', how='inner')\n",
    "\n",
    "        merge_data = merge_data.drop([\"Valeur_x\", \"Valeur_y\", \"N°Panneau\", \n",
    "                                      \"Nom\", \"Prenom\", \"Sexe\", \"Libelle du canton\",\n",
    "                                      \"Parti polititque\",\n",
    "                                      \"Code Tendance\",\n",
    "                                      \"Voix\", \"% Voix/Ins\"], axis=1)\n",
    "        merge_data = merge_data.rename(columns={\"faits\" : \"Faits de délinquance\"})\n",
    "\n",
    "        merge_data['% Voix/Exp'] = merge_data['% Voix/Exp'].replace(',', '.', regex=True).astype(float)\n",
    "        merge_data = merge_data.groupby(['Code du departement', 'Code du canton', 'Tendance']).agg(lambda x: x.iloc[0] if x.name != '% Voix/Exp' else x.sum()).reset_index()\n",
    "        merge_data = merge_data.replace(',', '.', regex=True)\n",
    "\n",
    "        merge_data.to_csv(self.output().path, index=False)\n",
    "\n",
    "    def output(self):\n",
    "        return luigi.LocalTarget('./CleanData/data.csv')"
   ]
  },
  {
   "cell_type": "code",
   "execution_count": null,
   "metadata": {},
   "outputs": [],
   "source": [
    "\n",
    "config = luigi.configuration.get_config()\n",
    "config.set('core', 'no_lock', 'False')\n",
    "\n",
    "luigi.build([ReadAllData()], local_scheduler=False, no_lock=True)"
   ]
  }
 ],
 "metadata": {
  "kernelspec": {
   "display_name": "Python 3",
   "language": "python",
   "name": "python3"
  },
  "language_info": {
   "codemirror_mode": {
    "name": "ipython",
    "version": 3
   },
   "file_extension": ".py",
   "mimetype": "text/x-python",
   "name": "python",
   "nbconvert_exporter": "python",
   "pygments_lexer": "ipython3",
   "version": "3.10.11"
  },
  "orig_nbformat": 4
 },
 "nbformat": 4,
 "nbformat_minor": 2
}
