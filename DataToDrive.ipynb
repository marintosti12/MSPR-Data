{
 "cells": [
  {
   "attachments": {},
   "cell_type": "markdown",
   "metadata": {},
   "source": [
    "Importations des différentes libs"
   ]
  },
  {
   "cell_type": "code",
   "execution_count": 16,
   "metadata": {},
   "outputs": [],
   "source": [
    "\n",
    "from pydrive.auth import GoogleAuth\n",
    "from pydrive.drive import GoogleDrive\n",
    "import pandas as pd\n",
    "import os"
   ]
  },
  {
   "attachments": {},
   "cell_type": "markdown",
   "metadata": {},
   "source": [
    "Création d'un fonction pour la lecture des fichiers sur le drive"
   ]
  },
  {
   "cell_type": "code",
   "execution_count": 17,
   "metadata": {},
   "outputs": [],
   "source": [
    "# ID du dossier cible sur Google Drive (pas le raccourci)\n",
    "folder_id = \"1mQPpqOXhDBGVh4CKs5MfEuAaJ-zPvHoD\"\n",
    "dossier = \"CleanData\""
   ]
  },
  {
   "cell_type": "code",
   "execution_count": 18,
   "metadata": {},
   "outputs": [],
   "source": [
    "\n",
    "def sendDataToDrive(drive):\n",
    "    clean_data_folder_id = '1BZxVYDWUAPcnYxphylH3_SrhKXCHr_ET'\n",
    "    folder = drive.CreateFile({'id': '1BZxVYDWUAPcnYxphylH3_SrhKXCHr_ET','title': dossier, 'parents': [{'id': folder_id}], 'mimeType': 'application/vnd.google-apps.folder'})\n",
    "    folder.Upload()\n",
    "    new_folder_id = folder.metadata['id']\n",
    "\n",
    "    fichiers = drive.ListFile({'q': f\"'{clean_data_folder_id}' in parents and trashed=false\"}).GetList()\n",
    "    for fichier in fichiers:\n",
    "        fichier.Delete()\n",
    "\n",
    "    for file_name in os.listdir(dossier):\n",
    "        file_drive = drive.CreateFile({'title': file_name, 'parents': [{'id': new_folder_id}]})\n",
    "        file_drive.SetContentFile(os.path.join(dossier, file_name))\n",
    "        file_drive.Upload()"
   ]
  },
  {
   "cell_type": "code",
   "execution_count": 19,
   "metadata": {},
   "outputs": [],
   "source": [
    "def connectDrive():\n",
    "    # Authentification avec les identifiants OAuth 2.0\n",
    "    gauth = GoogleAuth()\n",
    "    gauth.LocalWebserverAuth()\n",
    "\n",
    "    # Création d'une instance de la classe GoogleDrive\n",
    "    drive = GoogleDrive(gauth)\n",
    "\n",
    "    sendDataToDrive(drive)"
   ]
  },
  {
   "cell_type": "code",
   "execution_count": 20,
   "metadata": {},
   "outputs": [
    {
     "name": "stdout",
     "output_type": "stream",
     "text": [
      "Your browser has been opened to visit:\n",
      "\n",
      "    https://accounts.google.com/o/oauth2/auth?client_id=1015769428483-bhe38h2fn9bvk3vu56m0c9936e5o4hrq.apps.googleusercontent.com&redirect_uri=http%3A%2F%2Flocalhost%3A8080%2F&scope=https%3A%2F%2Fwww.googleapis.com%2Fauth%2Fdrive&access_type=offline&response_type=code\n",
      "\n",
      "Authentication successful.\n"
     ]
    }
   ],
   "source": [
    "connectDrive()"
   ]
  }
 ],
 "metadata": {
  "kernelspec": {
   "display_name": "Python 3",
   "language": "python",
   "name": "python3"
  },
  "language_info": {
   "codemirror_mode": {
    "name": "ipython",
    "version": 3
   },
   "file_extension": ".py",
   "mimetype": "text/x-python",
   "name": "python",
   "nbconvert_exporter": "python",
   "pygments_lexer": "ipython3",
   "version": "3.10.11"
  },
  "orig_nbformat": 4
 },
 "nbformat": 4,
 "nbformat_minor": 2
}
