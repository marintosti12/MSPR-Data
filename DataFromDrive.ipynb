{
 "cells": [
  {
   "attachments": {},
   "cell_type": "markdown",
   "metadata": {},
   "source": [
    "Importations des différentes libs"
   ]
  },
  {
   "cell_type": "code",
   "execution_count": null,
   "metadata": {},
   "outputs": [],
   "source": [
    "\n",
    "from pydrive.auth import GoogleAuth\n",
    "from pydrive.drive import GoogleDrive\n",
    "import pandas as pd\n",
    "import os"
   ]
  },
  {
   "attachments": {},
   "cell_type": "markdown",
   "metadata": {},
   "source": [
    "Création d'un fonction pour la lecture des fichiers sur le drive"
   ]
  },
  {
   "cell_type": "code",
   "execution_count": null,
   "metadata": {},
   "outputs": [],
   "source": [
    "# ID du dossier cible sur Google Drive (pas le raccourci)\n",
    "folder_id = \"1mQPpqOXhDBGVh4CKs5MfEuAaJ-zPvHoD\"\n",
    "dossier = \"./RawData\""
   ]
  },
  {
   "cell_type": "code",
   "execution_count": null,
   "metadata": {},
   "outputs": [],
   "source": [
    "\n",
    "def getDataFromDrive(drive):\n",
    "    # Vérifiez si le dossier n'existe pas déjà\n",
    "    if not os.path.exists(dossier):\n",
    "        # Créez le dossier\n",
    "        os.makedirs(dossier, mode=0o777)\n",
    "        print(\"Dossier créé avec succès.\")\n",
    "    else:\n",
    "        print(\"Le dossier existe déjà.\")\n",
    "\n",
    "    # Obtention de la liste des fichiers dans le dossier cible\n",
    "    file_list = drive.ListFile(\n",
    "        {\"q\": f\"'{folder_id}' in parents and trashed=false\"}\n",
    "    ).GetList()\n",
    "\n",
    "    # Lecture du contenu de chaque fichier dans le dossier cible\n",
    "    for file in file_list:\n",
    "        if not file[\"mimeType\"].startswith(\"application/vnd.google-apps\"):\n",
    "            print(f\"Nom du fichier : {file['title']}\")\n",
    "            file.GetContentFile(os.path.join(dossier, file[\"title\"]))"
   ]
  },
  {
   "cell_type": "code",
   "execution_count": null,
   "metadata": {},
   "outputs": [],
   "source": [
    "def connectDrive():\n",
    "    # Authentification avec les identifiants OAuth 2.0\n",
    "    gauth = GoogleAuth()\n",
    "    gauth.LocalWebserverAuth()\n",
    "\n",
    "    # Création d'une instance de la classe GoogleDrive\n",
    "    drive = GoogleDrive(gauth)\n",
    "\n",
    "    getDataFromDrive(drive)"
   ]
  },
  {
   "cell_type": "code",
   "execution_count": null,
   "metadata": {},
   "outputs": [],
   "source": [
    "connectDrive()"
   ]
  }
 ],
 "metadata": {
  "kernelspec": {
   "display_name": "Python 3",
   "language": "python",
   "name": "python3"
  },
  "language_info": {
   "codemirror_mode": {
    "name": "ipython",
    "version": 3
   },
   "file_extension": ".py",
   "mimetype": "text/x-python",
   "name": "python",
   "nbconvert_exporter": "python",
   "pygments_lexer": "ipython3",
   "version": "3.10.11"
  },
  "orig_nbformat": 4
 },
 "nbformat": 4,
 "nbformat_minor": 2
}
