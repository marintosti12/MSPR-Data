{
 "cells": [
  {
   "attachments": {},
   "cell_type": "markdown",
   "metadata": {},
   "source": [
    "Importations des différentes libs"
   ]
  },
  {
   "cell_type": "code",
   "execution_count": 6,
   "metadata": {},
   "outputs": [],
   "source": [
    "\n",
    "from pydrive.auth import GoogleAuth\n",
    "from pydrive.drive import GoogleDrive\n",
    "import pandas as pd\n",
    "import os"
   ]
  },
  {
   "attachments": {},
   "cell_type": "markdown",
   "metadata": {},
   "source": [
    "Création d'un fonction pour la lecture des fichiers sur le drive"
   ]
  },
  {
   "cell_type": "code",
   "execution_count": 7,
   "metadata": {},
   "outputs": [],
   "source": [
    "# ID du dossier cible sur Google Drive (pas le raccourci)\n",
    "folder_id = \"1mQPpqOXhDBGVh4CKs5MfEuAaJ-zPvHoD\"\n",
    "dossier = \"./RawData\""
   ]
  },
  {
   "cell_type": "code",
   "execution_count": 8,
   "metadata": {},
   "outputs": [],
   "source": [
    "\n",
    "def getDataFromDrive(drive):\n",
    "    # Vérifiez si le dossier n'existe pas déjà\n",
    "    if not os.path.exists(dossier):\n",
    "        # Créez le dossier\n",
    "        os.makedirs(dossier, mode=0o777)\n",
    "        print(\"Dossier créé avec succès.\")\n",
    "    else:\n",
    "        print(\"Le dossier existe déjà.\")\n",
    "\n",
    "    # Obtention de la liste des fichiers dans le dossier cible\n",
    "    file_list = drive.ListFile(\n",
    "        {\"q\": f\"'{folder_id}' in parents and trashed=false\"}\n",
    "    ).GetList()\n",
    "\n",
    "    # Lecture du contenu de chaque fichier dans le dossier cible\n",
    "    for file in file_list:\n",
    "        if not file[\"mimeType\"].startswith(\"application/vnd.google-apps\"):\n",
    "            print(f\"Nom du fichier : {file['title']}\")\n",
    "            file.GetContentFile(os.path.join(dossier, file[\"title\"]))"
   ]
  },
  {
   "cell_type": "code",
   "execution_count": 9,
   "metadata": {},
   "outputs": [],
   "source": [
    "def connectDrive():\n",
    "    # Authentification avec les identifiants OAuth 2.0\n",
    "    gauth = GoogleAuth()\n",
    "    gauth.LocalWebserverAuth()\n",
    "\n",
    "    # Création d'une instance de la classe GoogleDrive\n",
    "    drive = GoogleDrive(gauth)\n",
    "\n",
    "    getDataFromDrive(drive)"
   ]
  },
  {
   "cell_type": "code",
   "execution_count": 10,
   "metadata": {},
   "outputs": [
    {
     "name": "stdout",
     "output_type": "stream",
     "text": [
      "Your browser has been opened to visit:\n",
      "\n",
      "    https://accounts.google.com/o/oauth2/auth?client_id=1015769428483-bhe38h2fn9bvk3vu56m0c9936e5o4hrq.apps.googleusercontent.com&redirect_uri=http%3A%2F%2Flocalhost%3A8080%2F&scope=https%3A%2F%2Fwww.googleapis.com%2Fauth%2Fdrive&access_type=offline&response_type=code\n",
      "\n",
      "Authentication successful.\n",
      "Le dossier existe déjà.\n",
      "Nom du fichier : schema_flux_donnees_MSPR.drawio\n",
      "Nom du fichier : canton_t1_2017.csv\n",
      "Nom du fichier : cdsp_presi2012t2_circ.csv\n"
     ]
    }
   ],
   "source": [
    "connectDrive()"
   ]
  }
 ],
 "metadata": {
  "kernelspec": {
   "display_name": "Python 3",
   "language": "python",
   "name": "python3"
  },
  "language_info": {
   "codemirror_mode": {
    "name": "ipython",
    "version": 3
   },
   "file_extension": ".py",
   "mimetype": "text/x-python",
   "name": "python",
   "nbconvert_exporter": "python",
   "pygments_lexer": "ipython3",
   "version": "3.11.0"
  },
  "orig_nbformat": 4
 },
 "nbformat": 4,
 "nbformat_minor": 2
}
